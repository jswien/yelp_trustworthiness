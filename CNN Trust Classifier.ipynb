{
 "cells": [
  {
   "cell_type": "markdown",
   "metadata": {},
   "source": [
    "# Yelp Trustworthiness Classifier\n",
    "\n",
    "Jason Wien   \n",
    "September-October 2017"
   ]
  },
  {
   "cell_type": "markdown",
   "metadata": {},
   "source": [
    "## Overview\n",
    "\n",
    "In this notebook we train a model to identify untrustworthy Yelp reviews. We use a \"one vs rest\" classification scheme to identify reviews that are **>1** star over the mean or **<-0.5** stars under the mean (outside the upper and lower quartiles).  \n",
    "\n",
    "The strategy we use is to first use a pre-trained word2vec model to embed each word into a 300 dimensional vector space. For each review, we take only the first 400 words and so each instance can be thought of as a one dimensional sequence of vectors. \n",
    "\n",
    "We then train a one dimensional CNN to determine the trustworthiness of a review from this sequence. As reviews that are over the mean and under the mean have different characteristics that make the untrustworthy, we train two different classifiers on each of these groups. "
   ]
  },
  {
   "cell_type": "code",
   "execution_count": 1,
   "metadata": {},
   "outputs": [],
   "source": [
    "import random\n",
    "import spacy\n",
    "import numpy as np\n",
    "import pandas as pd\n",
    "import matplotlib.pyplot as plt\n",
    "import seaborn as sns\n",
    "sns.set_style(\"darkgrid\")\n",
    "\n",
    "%matplotlib inline\n",
    "\n",
    "from keras.preprocessing import sequence\n",
    "from keras.layers import LSTM, Conv1D, Dropout, Dense, Flatten, MaxPooling1D, Input\n",
    "from keras.models import Sequential, Model\n",
    "\n",
    "from sklearn.metrics import confusion_matrix\n",
    "\n",
    "nlp = spacy.load('en')"
   ]
  },
  {
   "cell_type": "markdown",
   "metadata": {},
   "source": [
    "## Training and Testing Data\n",
    "\n",
    "First we import a random training and test set from the full dataset. "
   ]
  },
  {
   "cell_type": "code",
   "execution_count": 2,
   "metadata": {},
   "outputs": [],
   "source": [
    "N_reviews = 2396491\n",
    "N_train = 30000\n",
    "N_test = 10000\n",
    "\n",
    "skip = sorted(random.sample(range(1,N_reviews),N_reviews - (N_train + N_test)))\n",
    "df = pd.read_csv('review_deviations.csv',skiprows=skip, index_col = 0)"
   ]
  },
  {
   "cell_type": "markdown",
   "metadata": {},
   "source": [
    "We can look at how the deviations are distributed."
   ]
  },
  {
   "cell_type": "code",
   "execution_count": 3,
   "metadata": {},
   "outputs": [
    {
     "data": {
      "text/plain": [
       "count    40000.000000\n",
       "mean        -0.010425\n",
       "std          1.225731\n",
       "min         -4.000000\n",
       "25%         -0.500000\n",
       "50%          0.500000\n",
       "75%          1.000000\n",
       "max          4.000000\n",
       "Name: deviation, dtype: float64"
      ]
     },
     "execution_count": 3,
     "metadata": {},
     "output_type": "execute_result"
    },
    {
     "data": {
      "image/png": "[encoded data removed]",
      "text/plain": [
       "<Figure size 432x288 with 1 Axes>"
      ]
     },
     "metadata": {},
     "output_type": "display_data"
    }
   ],
   "source": [
    "df['deviation'].hist(bins=15)\n",
    "df['deviation'].describe()"
   ]
  },
  {
   "cell_type": "markdown",
   "metadata": {},
   "source": [
    "The values -0.5 and 1.0 mark the lower and upper quartiles of the dataset, and so that is how we choose our cutoffs for trustworthiness.\n",
    "\n",
    "Next we define convenient functions to encode our \"under\" or \"over\" parameters. Trustworthy reviews get a score of 0, while scores that are over or under the mean get a score of $\\pm 1$.  "
   ]
  },
  {
   "cell_type": "code",
   "execution_count": 4,
   "metadata": {},
   "outputs": [],
   "source": [
    "def under_score(x):\n",
    "    if x<-0.5:\n",
    "        return 1\n",
    "    else:\n",
    "        return 0\n",
    "    \n",
    "def over_score(x):\n",
    "    if x>1:\n",
    "        return 1\n",
    "    else:\n",
    "        return 0\n",
    "\n",
    "def score(x):\n",
    "    if x<-0.5:\n",
    "        return -1\n",
    "    elif x>1:\n",
    "        return 1\n",
    "    else:\n",
    "        return 0"
   ]
  },
  {
   "cell_type": "markdown",
   "metadata": {},
   "source": [
    "The reviews are of all different word lengths, so we convert review to a sequence of vectors of fixed length. We choose **400** words. "
   ]
  },
  {
   "cell_type": "code",
   "execution_count": 5,
   "metadata": {},
   "outputs": [],
   "source": [
    "max_words = 400\n",
    "n_word_vec = len(nlp('hello').vector)\n",
    "\n",
    "def review_to_vec_seq(review):\n",
    "    vec_seq = np.array([word.vector for word in nlp(review)])\n",
    "    if len(vec_seq) < max_words:\n",
    "        return(np.concatenate((vec_seq, np.zeros((max_words-vec_seq.shape[0],n_word_vec)))))\n",
    "    else:\n",
    "        return(vec_seq[:max_words])"
   ]
  },
  {
   "cell_type": "markdown",
   "metadata": {},
   "source": [
    "Additionally, we want to have a low false positive rate, so we will skew the distribution of the training data for each classifier appropriately. That is, in general we can break up the loss function as a sum over positive and negative training instances. Let $\\overline \\ell _p$ and $\\overline \\ell_n$ be the average loss on positive and negative instances respectively. Therefore we can write the total loss as\n",
    "\n",
    "$$ \\mathscr L = N_p \\overline \\ell_p + N_n \\overline \\ell_n\\, , $$\n",
    "\n",
    "where $N_p$ and $N_n$ are the number of positive and negative instances respectively. We can think of $N_p$ and $N_n$ then as weights determining how much we should penalize a high loss on positive and negative instances. Therefore, if we want to penalize misclassifying negative instances more than misclassifying positive instances (i.e. penalize false positives more than false negatives), we should have $N_n > N_p$. Note that this approach is equivalent to weighting the loss function differently for positive and negative instances.\n",
    "\n",
    "To do so we first have to separate our training data by score. We order the training instances by the deviation, then find the border between negative, neutral, and positive instances."
   ]
  },
  {
   "cell_type": "code",
   "execution_count": 6,
   "metadata": {},
   "outputs": [],
   "source": [
    "df_train = df.iloc[:N_train].sort_values('deviation')\n",
    "\n",
    "neg_neut_border = len(df_train[df_train['deviation'] < -0.5])\n",
    "neut_pos_border = len(df_train[df_train['deviation'] <= 1])\n",
    "\n",
    "n_neg = neg_neut_border\n",
    "n_neut = neut_pos_border-neg_neut_border\n",
    "n_pos = N_train - neut_pos_border"
   ]
  },
  {
   "cell_type": "code",
   "execution_count": 7,
   "metadata": {},
   "outputs": [
    {
     "data": {
      "text/plain": [
       "array([0.24 , 0.658, 0.102])"
      ]
     },
     "execution_count": 7,
     "metadata": {},
     "output_type": "execute_result"
    }
   ],
   "source": [
    "np.round((n_neg / N_train, n_neut/N_train, n_pos/N_train),3)"
   ]
  },
  {
   "cell_type": "markdown",
   "metadata": {},
   "source": [
    "For the \"under\" classifier we use a 2:1 ratio of negatives to positives, and for the \"over\" classifier we use a 3:1 ratio (which we decided through experimentation). The desired target is to use 10000 instances to train each classifier. "
   ]
  },
  {
   "cell_type": "code",
   "execution_count": 8,
   "metadata": {},
   "outputs": [],
   "source": [
    "under_base = min(3333,int((n_neut+n_pos)/2), int(n_neg))\n",
    "under_draws = random.sample(range(neg_neut_border),under_base+1)+random.sample(range(neg_neut_border,N_train),2*under_base)\n",
    "\n",
    "over_base = min(2500,int((n_neut+n_neg)/3),int(n_pos))\n",
    "over_draws = random.sample(range(neut_pos_border),3*over_base)+random.sample(range(neut_pos_border,N_train),over_base)"
   ]
  },
  {
   "cell_type": "code",
   "execution_count": 9,
   "metadata": {},
   "outputs": [
    {
     "data": {
      "text/plain": [
       "(10000, 10000)"
      ]
     },
     "execution_count": 9,
     "metadata": {},
     "output_type": "execute_result"
    }
   ],
   "source": [
    "len(under_draws), len(over_draws)"
   ]
  },
  {
   "cell_type": "markdown",
   "metadata": {},
   "source": [
    "Next we build the training and test sets to use for the classifiers."
   ]
  },
  {
   "cell_type": "code",
   "execution_count": 10,
   "metadata": {},
   "outputs": [],
   "source": [
    "X_over = df_train.iloc[over_draws]['text'].apply(review_to_vec_seq).values\n",
    "X_over = np.array([x for x in X_over])\n",
    "\n",
    "X_under = df_train.iloc[under_draws]['text'].apply(review_to_vec_seq).values\n",
    "X_under = np.array([x for x in X_under])\n",
    "\n",
    "Y_over = df_train.iloc[over_draws]['deviation'].apply(over_score).values\n",
    "Y_under = df_train.iloc[under_draws]['deviation'].apply(under_score).values\n",
    "Y_train = df_train['deviation'].apply(score).values"
   ]
  },
  {
   "cell_type": "code",
   "execution_count": 11,
   "metadata": {},
   "outputs": [],
   "source": [
    "df_test = df.iloc[N_train:]\n",
    "X_test = df_test['text'].apply(review_to_vec_seq).values\n",
    "\n",
    "X_test = np.array([x for x in X_test])\n",
    "\n",
    "Y_test_over = df_test['deviation'].apply(over_score).values\n",
    "Y_test_under = df_test['deviation'].apply(under_score).values\n",
    "Y_test = df_test['deviation'].apply(score).values"
   ]
  },
  {
   "cell_type": "markdown",
   "metadata": {},
   "source": [
    "## Build Classifiers\n",
    "\n",
    "Each classifier consists of two convolutional layers with max pooling, one fully connected layer, and an output layer. Additionally, we introduce two droput layers to prevent overfitting. We use 20 epochs to train each classifier, as after that the loss starts to level out."
   ]
  },
  {
   "cell_type": "code",
   "execution_count": 12,
   "metadata": {},
   "outputs": [
    {
     "name": "stdout",
     "output_type": "stream",
     "text": [
      "_________________________________________________________________\n",
      "Layer (type)                 Output Shape              Param #   \n",
      "=================================================================\n",
      "input_1 (InputLayer)         (None, 400, 300)          0         \n",
      "_________________________________________________________________\n",
      "conv1d_1 (Conv1D)            (None, 400, 64)           57664     \n",
      "_________________________________________________________________\n",
      "max_pooling1d_1 (MaxPooling1 (None, 200, 64)           0         \n",
      "_________________________________________________________________\n",
      "conv1d_2 (Conv1D)            (None, 200, 32)           6176      \n",
      "_________________________________________________________________\n",
      "max_pooling1d_2 (MaxPooling1 (None, 100, 32)           0         \n",
      "_________________________________________________________________\n",
      "flatten_1 (Flatten)          (None, 3200)              0         \n",
      "_________________________________________________________________\n",
      "dropout_1 (Dropout)          (None, 3200)              0         \n",
      "_________________________________________________________________\n",
      "dense_1 (Dense)              (None, 150)               480150    \n",
      "_________________________________________________________________\n",
      "dropout_2 (Dropout)          (None, 150)               0         \n",
      "_________________________________________________________________\n",
      "dense_2 (Dense)              (None, 1)                 151       \n",
      "=================================================================\n",
      "Total params: 544,141\n",
      "Trainable params: 544,141\n",
      "Non-trainable params: 0\n",
      "_________________________________________________________________\n",
      "None\n"
     ]
    }
   ],
   "source": [
    "over_input = Input((max_words, n_word_vec))\n",
    "over_conv1 = Conv1D(64, 3, padding = \"same\", activation='relu')(over_input)\n",
    "over_pool1 = MaxPooling1D(pool_size=2)(over_conv1)\n",
    "over_conv2 = Conv1D(32, 3, padding = \"same\", activation='relu')(over_pool1)\n",
    "over_pool2 = MaxPooling1D(pool_size=2)(over_conv2)\n",
    "over_flatten = Flatten()(over_pool2)\n",
    "over_drop1 = Dropout(0.2)(over_flatten)\n",
    "over_dense1 = Dense(150, activation ='relu')(over_drop1)\n",
    "over_drop2 = Dropout(0.2)(over_dense1)\n",
    "over_out = Dense(1, activation ='sigmoid')(over_drop2)\n",
    "\n",
    "model_over = Model(inputs = over_input, outputs = over_out)\n",
    "model_over.compile(loss='binary_crossentropy', optimizer='adam', metrics=['accuracy'])\n",
    "print(model_over.summary())"
   ]
  },
  {
   "cell_type": "code",
   "execution_count": 13,
   "metadata": {
    "scrolled": true
   },
   "outputs": [
    {
     "name": "stdout",
     "output_type": "stream",
     "text": [
      "Epoch 1/20\n",
      "10000/10000 [==============================] - 99s 10ms/step - loss: 0.5635 - acc: 0.7388\n",
      "Epoch 2/20\n",
      "10000/10000 [==============================] - 73s 7ms/step - loss: 0.5263 - acc: 0.7500\n",
      "Epoch 3/20\n",
      "10000/10000 [==============================] - 76s 8ms/step - loss: 0.4993 - acc: 0.7504\n",
      "Epoch 4/20\n",
      "10000/10000 [==============================] - 74s 7ms/step - loss: 0.4846 - acc: 0.7564\n",
      "Epoch 5/20\n",
      "10000/10000 [==============================] - 76s 8ms/step - loss: 0.4439 - acc: 0.7745\n",
      "Epoch 6/20\n",
      "10000/10000 [==============================] - 77s 8ms/step - loss: 0.3995 - acc: 0.8033\n",
      "Epoch 7/20\n",
      "10000/10000 [==============================] - 78s 8ms/step - loss: 0.3647 - acc: 0.8272\n",
      "Epoch 8/20\n",
      "10000/10000 [==============================] - 75s 8ms/step - loss: 0.3290 - acc: 0.8537\n",
      "Epoch 9/20\n",
      "10000/10000 [==============================] - 75s 8ms/step - loss: 0.2754 - acc: 0.8770\n",
      "Epoch 10/20\n",
      "10000/10000 [==============================] - 74s 7ms/step - loss: 0.2347 - acc: 0.8999\n",
      "Epoch 11/20\n",
      "10000/10000 [==============================] - 75s 7ms/step - loss: 0.2017 - acc: 0.9159\n",
      "Epoch 12/20\n",
      "10000/10000 [==============================] - 73s 7ms/step - loss: 0.1652 - acc: 0.9312\n",
      "Epoch 13/20\n",
      "10000/10000 [==============================] - 75s 7ms/step - loss: 0.1482 - acc: 0.9422\n",
      "Epoch 14/20\n",
      "10000/10000 [==============================] - 74s 7ms/step - loss: 0.1238 - acc: 0.9516\n",
      "Epoch 15/20\n",
      "10000/10000 [==============================] - 74s 7ms/step - loss: 0.1357 - acc: 0.9464\n",
      "Epoch 16/20\n",
      "10000/10000 [==============================] - 75s 7ms/step - loss: 0.1150 - acc: 0.9579\n",
      "Epoch 17/20\n",
      "10000/10000 [==============================] - 75s 7ms/step - loss: 0.0845 - acc: 0.9694\n",
      "Epoch 18/20\n",
      "10000/10000 [==============================] - 76s 8ms/step - loss: 0.0788 - acc: 0.9713\n",
      "Epoch 19/20\n",
      "10000/10000 [==============================] - 75s 7ms/step - loss: 0.0662 - acc: 0.9763\n",
      "Epoch 20/20\n",
      "10000/10000 [==============================] - 75s 7ms/step - loss: 0.0603 - acc: 0.9782\n"
     ]
    },
    {
     "data": {
      "text/plain": [
       "<keras.callbacks.History at 0x1a5683f668>"
      ]
     },
     "execution_count": 13,
     "metadata": {},
     "output_type": "execute_result"
    }
   ],
   "source": [
    "model_over.fit(X_over, Y_over, epochs=20, batch_size=256)"
   ]
  },
  {
   "cell_type": "markdown",
   "metadata": {},
   "source": [
    "Train \"under\" Classifier"
   ]
  },
  {
   "cell_type": "code",
   "execution_count": 14,
   "metadata": {
    "scrolled": true
   },
   "outputs": [
    {
     "name": "stdout",
     "output_type": "stream",
     "text": [
      "_________________________________________________________________\n",
      "Layer (type)                 Output Shape              Param #   \n",
      "=================================================================\n",
      "input_2 (InputLayer)         (None, 400, 300)          0         \n",
      "_________________________________________________________________\n",
      "conv1d_3 (Conv1D)            (None, 400, 64)           57664     \n",
      "_________________________________________________________________\n",
      "max_pooling1d_3 (MaxPooling1 (None, 200, 64)           0         \n",
      "_________________________________________________________________\n",
      "conv1d_4 (Conv1D)            (None, 200, 32)           6176      \n",
      "_________________________________________________________________\n",
      "max_pooling1d_4 (MaxPooling1 (None, 100, 32)           0         \n",
      "_________________________________________________________________\n",
      "flatten_2 (Flatten)          (None, 3200)              0         \n",
      "_________________________________________________________________\n",
      "dropout_3 (Dropout)          (None, 3200)              0         \n",
      "_________________________________________________________________\n",
      "dense_3 (Dense)              (None, 150)               480150    \n",
      "_________________________________________________________________\n",
      "dropout_4 (Dropout)          (None, 150)               0         \n",
      "_________________________________________________________________\n",
      "dense_4 (Dense)              (None, 1)                 151       \n",
      "=================================================================\n",
      "Total params: 544,141\n",
      "Trainable params: 544,141\n",
      "Non-trainable params: 0\n",
      "_________________________________________________________________\n",
      "None\n"
     ]
    }
   ],
   "source": [
    "under_input = Input((max_words, n_word_vec))\n",
    "under_conv1 = Conv1D(64, 3, padding = \"same\", activation='relu')(under_input)\n",
    "under_pool1 = MaxPooling1D(pool_size=2)(under_conv1)\n",
    "under_conv2 = Conv1D(32, 3, padding = \"same\", activation='relu')(under_pool1)\n",
    "under_pool2 = MaxPooling1D(pool_size=2)(under_conv2)\n",
    "under_flatten = Flatten()(under_pool2)\n",
    "under_drop1 = Dropout(0.2)(under_flatten)\n",
    "under_dense1 = Dense(150, activation ='relu')(under_drop1)\n",
    "under_drop2 = Dropout(0.2)(under_dense1)\n",
    "under_out = Dense(1, activation ='sigmoid')(under_drop2)\n",
    "\n",
    "model_under = Model(inputs = under_input, outputs = under_out)\n",
    "model_under.compile(loss='binary_crossentropy', optimizer='adam', metrics=['accuracy'])\n",
    "print(model_under.summary())"
   ]
  },
  {
   "cell_type": "code",
   "execution_count": 15,
   "metadata": {
    "scrolled": true
   },
   "outputs": [
    {
     "name": "stdout",
     "output_type": "stream",
     "text": [
      "Epoch 1/20\n",
      "10000/10000 [==============================] - 105s 11ms/step - loss: 0.5664 - acc: 0.6964\n",
      "Epoch 2/20\n",
      "10000/10000 [==============================] - 74s 7ms/step - loss: 0.4133 - acc: 0.8050\n",
      "Epoch 3/20\n",
      "10000/10000 [==============================] - 75s 7ms/step - loss: 0.3665 - acc: 0.8367\n",
      "Epoch 4/20\n",
      "10000/10000 [==============================] - 74s 7ms/step - loss: 0.3371 - acc: 0.8520\n",
      "Epoch 5/20\n",
      "10000/10000 [==============================] - 75s 7ms/step - loss: 0.2878 - acc: 0.8798\n",
      "Epoch 6/20\n",
      "10000/10000 [==============================] - 76s 8ms/step - loss: 0.2601 - acc: 0.8924\n",
      "Epoch 7/20\n",
      "10000/10000 [==============================] - 75s 7ms/step - loss: 0.2088 - acc: 0.9173\n",
      "Epoch 8/20\n",
      "10000/10000 [==============================] - 74s 7ms/step - loss: 0.1812 - acc: 0.9308\n",
      "Epoch 9/20\n",
      "10000/10000 [==============================] - 76s 8ms/step - loss: 0.1741 - acc: 0.9331\n",
      "Epoch 10/20\n",
      "10000/10000 [==============================] - 74s 7ms/step - loss: 0.1264 - acc: 0.9529\n",
      "Epoch 11/20\n",
      "10000/10000 [==============================] - 75s 7ms/step - loss: 0.1006 - acc: 0.9635\n",
      "Epoch 12/20\n",
      "10000/10000 [==============================] - 75s 7ms/step - loss: 0.0722 - acc: 0.9752\n",
      "Epoch 13/20\n",
      "10000/10000 [==============================] - 75s 7ms/step - loss: 0.0607 - acc: 0.9801\n",
      "Epoch 14/20\n",
      "10000/10000 [==============================] - 76s 8ms/step - loss: 0.0471 - acc: 0.9856\n",
      "Epoch 15/20\n",
      "10000/10000 [==============================] - 76s 8ms/step - loss: 0.0680 - acc: 0.9754\n",
      "Epoch 16/20\n",
      "10000/10000 [==============================] - 75s 8ms/step - loss: 0.0441 - acc: 0.9867\n",
      "Epoch 17/20\n",
      "10000/10000 [==============================] - 76s 8ms/step - loss: 0.0377 - acc: 0.9871\n",
      "Epoch 18/20\n",
      "10000/10000 [==============================] - 75s 8ms/step - loss: 0.0312 - acc: 0.9898\n",
      "Epoch 19/20\n",
      "10000/10000 [==============================] - 76s 8ms/step - loss: 0.0330 - acc: 0.9884\n",
      "Epoch 20/20\n",
      "10000/10000 [==============================] - 75s 7ms/step - loss: 0.0276 - acc: 0.9911\n"
     ]
    },
    {
     "data": {
      "text/plain": [
       "<keras.callbacks.History at 0x1a2888c5c0>"
      ]
     },
     "execution_count": 15,
     "metadata": {},
     "output_type": "execute_result"
    }
   ],
   "source": [
    "model_under.fit(X_under, Y_under, epochs=20, batch_size=256)"
   ]
  },
  {
   "cell_type": "markdown",
   "metadata": {},
   "source": [
    "Save models"
   ]
  },
  {
   "cell_type": "code",
   "execution_count": 16,
   "metadata": {},
   "outputs": [],
   "source": [
    "model_over.save(\"CNN_over.h5\")\n",
    "model_under.save(\"CNN_under.h5\")"
   ]
  },
  {
   "cell_type": "markdown",
   "metadata": {},
   "source": [
    "## Evaluate Model\n",
    "\n",
    "We can now evaluate the performance on the three class classification problem. If both a review is classified both as \"under\" and \"over\" we interpret it as being neutral."
   ]
  },
  {
   "cell_type": "code",
   "execution_count": 17,
   "metadata": {},
   "outputs": [],
   "source": [
    "def score_model(X_test, Y_test):\n",
    "    N_test = len(X_test)\n",
    "    Y_pred_over = np.reshape(np.round(model_over.predict(X_test)),(N_test,))\n",
    "    Y_pred_under = np.reshape(np.round(model_under.predict(X_test)),(N_test,))\n",
    "\n",
    "    Y_score = (Y_pred_over-Y_pred_under) - Y_test\n",
    "\n",
    "    acc = sum(1 for y in Y_score if y==0) / N_test\n",
    "    \n",
    "    print(\"Accuracy: \", str(round(100*acc))+\"%\")\n",
    "    \n",
    "    return(Y_pred_over, Y_pred_under, acc)"
   ]
  },
  {
   "cell_type": "code",
   "execution_count": 18,
   "metadata": {},
   "outputs": [
    {
     "name": "stdout",
     "output_type": "stream",
     "text": [
      "Accuracy:  71%\n"
     ]
    }
   ],
   "source": [
    "Y_pred_over, Y_pred_under, acc = score_model(X_test,Y_test)\n",
    "Y_pred = (Y_pred_over-Y_pred_under)"
   ]
  },
  {
   "cell_type": "markdown",
   "metadata": {},
   "source": [
    "We have over 70% accuracy, which is pretty good! Additionally, we can look at the confusion matrix for this classifier."
   ]
  },
  {
   "cell_type": "code",
   "execution_count": 19,
   "metadata": {},
   "outputs": [
    {
     "data": {
      "text/plain": [
       "<matplotlib.axes._subplots.AxesSubplot at 0x1a55fed048>"
      ]
     },
     "execution_count": 19,
     "metadata": {},
     "output_type": "execute_result"
    },
    {
     "data": {
      "image/png": "[encoded data removed]",
      "text/plain": [
       "<Figure size 432x288 with 1 Axes>"
      ]
     },
     "metadata": {},
     "output_type": "display_data"
    }
   ],
   "source": [
    "cmat= confusion_matrix(Y_test,Y_pred,labels=[1,0,-1])\n",
    "cmat_norm = [r/sum(r) for r in cmat]\n",
    "sns.heatmap(pd.DataFrame(cmat_norm,index=[1,0,-1], columns=[1,0,-1]), annot=True, cbar=False, cmap=\"Blues\")"
   ]
  },
  {
   "cell_type": "markdown",
   "metadata": {},
   "source": [
    "We see that the classifier is very conservative about predict that reviews will be over the mean, which we made by design. The recall is quite low, although the precision is high. For reviews that are under the mean, the classifier does much better. Indeed if all we care about is predicting if a review will be \"too low,\" we have the following confusion matrix."
   ]
  },
  {
   "cell_type": "code",
   "execution_count": 20,
   "metadata": {},
   "outputs": [
    {
     "data": {
      "text/plain": [
       "<matplotlib.axes._subplots.AxesSubplot at 0x1a28a845f8>"
      ]
     },
     "execution_count": 20,
     "metadata": {},
     "output_type": "execute_result"
    },
    {
     "data": {
      "image/png": "[encoded data removed]",
      "text/plain": [
       "<Figure size 432x288 with 1 Axes>"
      ]
     },
     "metadata": {},
     "output_type": "display_data"
    }
   ],
   "source": [
    "cmat_under = [[sum(cmat[:2,:2].flatten()), cmat[0,2]+cmat[1,2]],[cmat[2,0]+cmat[2,1], cmat[2,2]]]\n",
    "cmat_under_norm = [row/sum(row) for row in cmat_under]\n",
    "sns.heatmap(pd.DataFrame(cmat_under_norm,index=[0,-1], columns=[0,-1]), annot=True, cbar=False, cmap=\"Blues\")"
   ]
  },
  {
   "cell_type": "code",
   "execution_count": 21,
   "metadata": {},
   "outputs": [
    {
     "name": "stdout",
     "output_type": "stream",
     "text": [
      "Accuracy:  85%\n"
     ]
    }
   ],
   "source": [
    "acc_under = sum(np.diagonal(cmat_under))/N_test\n",
    "print(\"Accuracy: \", str(int(round(100*acc_under)))+\"%\")"
   ]
  },
  {
   "cell_type": "markdown",
   "metadata": {},
   "source": [
    "The accuracy is 85%, and again we see by design that the precision is very high. "
   ]
  },
  {
   "cell_type": "markdown",
   "metadata": {},
   "source": [
    "Finally, we can look at a histogram of true values versus predicted values."
   ]
  },
  {
   "cell_type": "code",
   "execution_count": 22,
   "metadata": {},
   "outputs": [
    {
     "data": {
      "image/png": "[encoded data removed]",
      "text/plain": [
       "<Figure size 432x288 with 1 Axes>"
      ]
     },
     "metadata": {},
     "output_type": "display_data"
    }
   ],
   "source": [
    "plt.hist(Y_test,alpha=0.5, label = \"True\")\n",
    "plt.hist(Y_pred,alpha=0.5, label = \"Predicted\")\n",
    "plt.legend()\n",
    "plt.show()"
   ]
  },
  {
   "cell_type": "markdown",
   "metadata": {},
   "source": [
    "We see we were a bit overzealous in keeping our false positive rates down, and so the classifier might do better with some further tuning. "
   ]
  },
  {
   "cell_type": "markdown",
   "metadata": {},
   "source": [
    "### Baselines"
   ]
  },
  {
   "cell_type": "markdown",
   "metadata": {},
   "source": [
    "To compute a baseline for this problem, we consider the following general model for a multiclass problem. Let there be $n_1, n_2, \\cdots$ instances of each class in the test set with total number of instances $n$. A random guessing model could randomly order all the instances, then take the first $n_1$ to be class $1$, the next $n_2$ to be class $2$, etc. The expected number of instances classified correctly for class $i$ is given by $n_i * n_i/n$, as we choose $n_i$ random samples, each with probability $n_i/n$ of being class $i$. \n",
    "\n",
    "Therefore the total expected accuracy is given by \n",
    "$$\\text{acc} = \\frac1 n\\left({n_1^2/n + n_2^2 / n + \\cdots}\\right) = \\frac 1{n^2} \\left( n_1^2 + n_2^2 + \\cdots\\right)$$\n",
    "\n",
    "We can compute this for each of our classification problems."
   ]
  },
  {
   "cell_type": "code",
   "execution_count": 23,
   "metadata": {},
   "outputs": [
    {
     "data": {
      "text/plain": [
       "0.50264114"
      ]
     },
     "execution_count": 23,
     "metadata": {},
     "output_type": "execute_result"
    }
   ],
   "source": [
    "sum(sum(cmat[k])**2 for k in range(3)) / N_test**2"
   ]
  },
  {
   "cell_type": "markdown",
   "metadata": {},
   "source": [
    "For the three class problem our 71% accuracy is over 20% better than random guessing."
   ]
  },
  {
   "cell_type": "code",
   "execution_count": 24,
   "metadata": {},
   "outputs": [
    {
     "data": {
      "text/plain": [
       "0.63436928"
      ]
     },
     "execution_count": 24,
     "metadata": {},
     "output_type": "execute_result"
    }
   ],
   "source": [
    "sum(sum(cmat_under[k])**2 for k in range(2)) / sum(sum(cmat_under))**2"
   ]
  },
  {
   "cell_type": "markdown",
   "metadata": {},
   "source": [
    "For just classifying underrated reviews the 85% accuracy is also over 20% better than random guessing."
   ]
  }
 ],
 "metadata": {
  "kernelspec": {
   "display_name": "Python 3",
   "language": "python",
   "name": "python3"
  },
  "language_info": {
   "codemirror_mode": {
    "name": "ipython",
    "version": 3
   },
   "file_extension": ".py",
   "mimetype": "text/x-python",
   "name": "python",
   "nbconvert_exporter": "python",
   "pygments_lexer": "ipython3",
   "version": "3.6.4"
  },
  "varInspector": {
   "cols": {
    "lenName": 16,
    "lenType": 16,
    "lenVar": 40
   },
   "kernels_config": {
    "python": {
     "delete_cmd_postfix": "",
     "delete_cmd_prefix": "del ",
     "library": "var_list.py",
     "varRefreshCmd": "print(var_dic_list())"
    },
    "r": {
     "delete_cmd_postfix": ") ",
     "delete_cmd_prefix": "rm(",
     "library": "var_list.r",
     "varRefreshCmd": "cat(var_dic_list()) "
    }
   },
   "types_to_exclude": [
    "module",
    "function",
    "builtin_function_or_method",
    "instance",
    "_Feature"
   ],
   "window_display": false
  }
 },
 "nbformat": 4,
 "nbformat_minor": 2
}
